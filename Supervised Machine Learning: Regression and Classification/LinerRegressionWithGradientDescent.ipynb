{
 "cells": [
  {
   "cell_type": "code",
   "execution_count": 2,
   "id": "ebf7d4b4-77ca-49fe-9982-fa60e78db74f",
   "metadata": {},
   "outputs": [],
   "source": [
    "import math, copy\n",
    "import numpy as np"
   ]
  },
  {
   "cell_type": "code",
   "execution_count": 4,
   "id": "299a476c-f938-475f-8e68-6e1a2afde7ee",
   "metadata": {},
   "outputs": [],
   "source": [
    "x_train=np.array([1.0,2.0])\n",
    "y_train=np.array([300.0,500.0])"
   ]
  },
  {
   "cell_type": "code",
   "execution_count": 33,
   "id": "2d40cab1-00a2-45ef-810b-54e22a16d92e",
   "metadata": {},
   "outputs": [],
   "source": [
    "def compute_Cost(x,y,w,b):\n",
    "    m=x.shape[0]\n",
    "    cost=0\n",
    "    for i in range(m):\n",
    "        f_wb=w*x[i]+b\n",
    "        cost=cost+(f_wb-y[i])**2\n",
    "    total_cost=(1/2*m)*cost\n",
    "    return total_cost"
   ]
  },
  {
   "cell_type": "code",
   "execution_count": 35,
   "id": "0770b8c6-a3ca-45ac-90e4-39e10fb548ec",
   "metadata": {},
   "outputs": [],
   "source": [
    "def compute_gradient(x,y,w,b):\n",
    "    m=x.shape[0]\n",
    "    dj_dw=0\n",
    "    dj_db=0\n",
    "    for i in range(m):\n",
    "        f_wb=w*x[i]+b\n",
    "        dj_dw_i=(f_wb-y[i])*x[i]\n",
    "        dj_db_i=(f_wb-y[i])\n",
    "        dj_dw+=dj_dw_i\n",
    "        dj_db_i+=dj_db_i\n",
    "\n",
    "    dj_db=dj_db/m\n",
    "    dj_dw=dj_dw/m\n",
    "    return dj_dw,dj_db"
   ]
  },
  {
   "cell_type": "code",
   "execution_count": 37,
   "id": "6953ba46-5731-4b27-a52f-25ea734a1a84",
   "metadata": {},
   "outputs": [],
   "source": [
    "def gradient_descent(x,y,w_in,b_in,alpha,num_iters,cost_function,gradient_function):\n",
    "    J_history=[]\n",
    "    p_history=[]\n",
    "    b=b_in\n",
    "    w=w_in\n",
    "    for i in range(num_iters):\n",
    "        dj_dw,dj_db=gradient_function(x,y,w,b)\n",
    "        b=b-alpha*dj_db\n",
    "        w=w-alpha*dj_dw\n",
    "        if i<100000:\n",
    "            J_history.append(cost_function(x,y,w,b))\n",
    "            p_history.append([w,b])\n",
    "        if i% math.ceil(num_iters/10)==0:\n",
    "            print(f\"Iteration{i:4}: cost{J_history[-1]:0.2e}\",\n",
    "                 f\"dj_dw: {dj_dw: 0.3e}, dj_db: {dj_db: 0.3e}  \",\n",
    "                  f\"w: {w: 0.3e}, b:{b: 0.5e}\")\n",
    "\n",
    "    return w,b,J_history,p_history\n"
   ]
  },
  {
   "cell_type": "code",
   "execution_count": 39,
   "id": "f24f755a-35cb-43ac-ba16-1ddf1e3b4dbd",
   "metadata": {},
   "outputs": [
    {
     "name": "stdout",
     "output_type": "stream",
     "text": [
      "Iteration   0: cost3.23e+05 dj_dw: -6.500e+02, dj_db:  0.000e+00   w:  6.500e+00, b: 0.00000e+00\n",
      "Iteration1000: cost2.00e+03 dj_dw: -6.570e-09, dj_db:  0.000e+00   w:  2.600e+02, b: 0.00000e+00\n",
      "Iteration2000: cost2.00e+03 dj_dw: -2.842e-12, dj_db:  0.000e+00   w:  2.600e+02, b: 0.00000e+00\n",
      "Iteration3000: cost2.00e+03 dj_dw: -2.842e-12, dj_db:  0.000e+00   w:  2.600e+02, b: 0.00000e+00\n",
      "Iteration4000: cost2.00e+03 dj_dw: -2.842e-12, dj_db:  0.000e+00   w:  2.600e+02, b: 0.00000e+00\n",
      "Iteration5000: cost2.00e+03 dj_dw: -2.842e-12, dj_db:  0.000e+00   w:  2.600e+02, b: 0.00000e+00\n",
      "Iteration6000: cost2.00e+03 dj_dw: -2.842e-12, dj_db:  0.000e+00   w:  2.600e+02, b: 0.00000e+00\n",
      "Iteration7000: cost2.00e+03 dj_dw: -2.842e-12, dj_db:  0.000e+00   w:  2.600e+02, b: 0.00000e+00\n",
      "Iteration8000: cost2.00e+03 dj_dw: -2.842e-12, dj_db:  0.000e+00   w:  2.600e+02, b: 0.00000e+00\n",
      "Iteration9000: cost2.00e+03 dj_dw: -2.842e-12, dj_db:  0.000e+00   w:  2.600e+02, b: 0.00000e+00\n",
      "(w,b) found by gradient descent: (260.0000,  0.0000)\n"
     ]
    }
   ],
   "source": [
    "# initialize parameters\n",
    "w_init = 0\n",
    "b_init = 0\n",
    "# some gradient descent settings\n",
    "iterations = 10000\n",
    "tmp_alpha = 1.0e-2\n",
    "# run gradient descent\n",
    "w_final, b_final, J_hist, p_hist = gradient_descent(x_train ,y_train, w_init, b_init, tmp_alpha, \n",
    "                                                    iterations, compute_Cost, compute_gradient)\n",
    "print(f\"(w,b) found by gradient descent: ({w_final:8.4f},{b_final:8.4f})\")"
   ]
  },
  {
   "cell_type": "code",
   "execution_count": 41,
   "id": "b7350ae8-37da-4502-8ee3-4c88c39d0adf",
   "metadata": {},
   "outputs": [
    {
     "name": "stdout",
     "output_type": "stream",
     "text": [
      "1000 sqft house prediction 260.0 Thousand dollars\n",
      "1200 sqft house prediction 312.0 Thousand dollars\n",
      "2000 sqft house prediction 520.0 Thousand dollars\n"
     ]
    }
   ],
   "source": [
    "print(f\"1000 sqft house prediction {w_final*1.0 + b_final:0.1f} Thousand dollars\")\n",
    "print(f\"1200 sqft house prediction {w_final*1.2 + b_final:0.1f} Thousand dollars\")\n",
    "print(f\"2000 sqft house prediction {w_final*2.0 + b_final:0.1f} Thousand dollars\")"
   ]
  },
  {
   "cell_type": "code",
   "execution_count": null,
   "id": "6bb67eae-7890-4faa-9044-1abc3a3cec76",
   "metadata": {},
   "outputs": [],
   "source": []
  }
 ],
 "metadata": {
  "kernelspec": {
   "display_name": "Python [conda env:base] *",
   "language": "python",
   "name": "conda-base-py"
  },
  "language_info": {
   "codemirror_mode": {
    "name": "ipython",
    "version": 3
   },
   "file_extension": ".py",
   "mimetype": "text/x-python",
   "name": "python",
   "nbconvert_exporter": "python",
   "pygments_lexer": "ipython3",
   "version": "3.12.7"
  }
 },
 "nbformat": 4,
 "nbformat_minor": 5
}
